{
 "cells": [
  {
   "cell_type": "code",
   "execution_count": 4,
   "metadata": {
    "collapsed": true
   },
   "outputs": [],
   "source": [
    "import torch\n",
    "import torch.nn as nn\n",
    "import torch.nn.functional as F\n",
    "from torch.utils.data import DataLoader\n",
    "import torchvision\n",
    "from torchvision import transforms, datasets\n",
    "import os\n",
    "from PIL import Image\n",
    "import matplotlib.pyplot as plt"
   ]
  },
  {
   "cell_type": "code",
   "execution_count": 9,
   "outputs": [],
   "source": [
    "class ConvolutionalNeuralNet(nn.Module):\n",
    "    def __init__(self):\n",
    "        super(ConvolutionalNeuralNet, self).__init__()\n",
    "        self.conv1 = nn.Conv2d(1, 6, 5)  # 3: colors - R G B, 6: output layer size, 5: convolution kernel size\n",
    "        self.pool = nn.MaxPool2d(4, 4)  #4: Pool size, 4: Stride size\n",
    "        self.conv2 = nn.Conv2d(6, 16, 5)\n",
    "        self.fc1 = nn.Linear(16*17*17, 120)\n",
    "        self.fc2 = nn.Linear(120, 84)\n",
    "        self.fc3 = nn.Linear(84, 2)\n",
    "\n",
    "    def forward(self, x):  # n: number samples in a batch.\n",
    "        # Start with n, 3, 32, 32\n",
    "        x = self.pool(F.relu(self.conv1(x)))\n",
    "        x = self.pool(F.relu(self.conv2(x)))\n",
    "        x = torch.flatten(x, 1) # flatten all dimensions except batch\n",
    "        x = F.relu(self.fc1(x))\n",
    "        x = F.relu(self.fc2(x))\n",
    "        x = self.fc3(x)\n",
    "        return x\n",
    "\n",
    "# Use local GPU for CNN models\n",
    "device = torch.device('cuda' if torch.cuda.is_available() else 'cpu')"
   ],
   "metadata": {
    "collapsed": false,
    "pycharm": {
     "name": "#%%\n"
    }
   }
  },
  {
   "cell_type": "code",
   "execution_count": 8,
   "outputs": [
    {
     "ename": "FileNotFoundError",
     "evalue": "[Errno 2] No such file or directory: '../Pneumonia_classification_data/reshape_folder\\\\train/NORMAL/IM-0225-0001.jpeg'",
     "output_type": "error",
     "traceback": [
      "\u001B[1;31m---------------------------------------------------------------------------\u001B[0m",
      "\u001B[1;31mFileNotFoundError\u001B[0m                         Traceback (most recent call last)",
      "\u001B[1;32m<ipython-input-8-80c28376a548>\u001B[0m in \u001B[0;36m<module>\u001B[1;34m\u001B[0m\n\u001B[0;32m      5\u001B[0m \u001B[0mfile_path\u001B[0m \u001B[1;33m=\u001B[0m \u001B[0mos\u001B[0m\u001B[1;33m.\u001B[0m\u001B[0mpath\u001B[0m\u001B[1;33m.\u001B[0m\u001B[0mjoin\u001B[0m\u001B[1;33m(\u001B[0m\u001B[0mreshaped_dir\u001B[0m\u001B[1;33m,\u001B[0m \u001B[0mimage_path\u001B[0m\u001B[1;33m)\u001B[0m\u001B[1;33m\u001B[0m\u001B[1;33m\u001B[0m\u001B[0m\n\u001B[0;32m      6\u001B[0m \u001B[1;33m\u001B[0m\u001B[0m\n\u001B[1;32m----> 7\u001B[1;33m \u001B[0mimg\u001B[0m \u001B[1;33m=\u001B[0m \u001B[0mImage\u001B[0m\u001B[1;33m.\u001B[0m\u001B[0mopen\u001B[0m\u001B[1;33m(\u001B[0m\u001B[0mfile_path\u001B[0m\u001B[1;33m)\u001B[0m\u001B[1;33m\u001B[0m\u001B[1;33m\u001B[0m\u001B[0m\n\u001B[0m\u001B[0;32m      8\u001B[0m \u001B[0mprint\u001B[0m\u001B[1;33m(\u001B[0m\u001B[1;34mf'Size of this image is :{img.size}'\u001B[0m\u001B[1;33m)\u001B[0m\u001B[1;33m\u001B[0m\u001B[1;33m\u001B[0m\u001B[0m\n\u001B[0;32m      9\u001B[0m \u001B[0mplt\u001B[0m\u001B[1;33m.\u001B[0m\u001B[0mimshow\u001B[0m\u001B[1;33m(\u001B[0m\u001B[0mimg\u001B[0m\u001B[1;33m,\u001B[0m \u001B[0mcmap\u001B[0m\u001B[1;33m=\u001B[0m\u001B[1;34m'gray'\u001B[0m\u001B[1;33m)\u001B[0m\u001B[1;33m\u001B[0m\u001B[1;33m\u001B[0m\u001B[0m\n",
      "\u001B[1;32m~\\anaconda3\\lib\\site-packages\\PIL\\Image.py\u001B[0m in \u001B[0;36mopen\u001B[1;34m(fp, mode, formats)\u001B[0m\n\u001B[0;32m   2902\u001B[0m \u001B[1;33m\u001B[0m\u001B[0m\n\u001B[0;32m   2903\u001B[0m     \u001B[1;32mif\u001B[0m \u001B[0mfilename\u001B[0m\u001B[1;33m:\u001B[0m\u001B[1;33m\u001B[0m\u001B[1;33m\u001B[0m\u001B[0m\n\u001B[1;32m-> 2904\u001B[1;33m         \u001B[0mfp\u001B[0m \u001B[1;33m=\u001B[0m \u001B[0mbuiltins\u001B[0m\u001B[1;33m.\u001B[0m\u001B[0mopen\u001B[0m\u001B[1;33m(\u001B[0m\u001B[0mfilename\u001B[0m\u001B[1;33m,\u001B[0m \u001B[1;34m\"rb\"\u001B[0m\u001B[1;33m)\u001B[0m\u001B[1;33m\u001B[0m\u001B[1;33m\u001B[0m\u001B[0m\n\u001B[0m\u001B[0;32m   2905\u001B[0m         \u001B[0mexclusive_fp\u001B[0m \u001B[1;33m=\u001B[0m \u001B[1;32mTrue\u001B[0m\u001B[1;33m\u001B[0m\u001B[1;33m\u001B[0m\u001B[0m\n\u001B[0;32m   2906\u001B[0m \u001B[1;33m\u001B[0m\u001B[0m\n",
      "\u001B[1;31mFileNotFoundError\u001B[0m: [Errno 2] No such file or directory: '../Pneumonia_classification_data/reshape_folder\\\\train/NORMAL/IM-0225-0001.jpeg'"
     ]
    }
   ],
   "source": [
    "# Check the size of one image\n",
    "\n",
    "reshaped_dir = r'../Pneumonia_classification_data/reshape_300'\n",
    "image_path = r'train/NORMAL/IM-0225-0001.jpeg'\n",
    "file_path = os.path.join(reshaped_dir, image_path)\n",
    "\n",
    "img = Image.open(file_path)\n",
    "print(f'Size of this image is :{img.size}')\n",
    "plt.imshow(img, cmap='gray')"
   ],
   "metadata": {
    "collapsed": false,
    "pycharm": {
     "name": "#%%\n"
    }
   }
  },
  {
   "cell_type": "code",
   "execution_count": 9,
   "outputs": [],
   "source": [
    "# Set ML configuration\n",
    "data_dir = r'../Pneumonia_classification_data/reshape_300'\n",
    "device = torch.device('cuda' if torch.cuda.is_available() else 'cpu')\n",
    "num_epochs = 5\n",
    "batch_size = 4\n",
    "rate_learning = 0.001\n",
    "classes = ('Normal', 'Pneumonia')"
   ],
   "metadata": {
    "collapsed": false,
    "pycharm": {
     "name": "#%%\n"
    }
   }
  },
  {
   "cell_type": "code",
   "execution_count": 10,
   "outputs": [],
   "source": [
    "# Load and transform datasets\n",
    "# Images are processed from main.py to 300x300 greyscale jpeg format\n",
    "test_dir = os.path.join(data_dir, 'test')\n",
    "train_dir = os.path.join(data_dir, 'train')\n",
    "val_dir = os.path.join(data_dir, 'val')\n",
    "\n",
    "\n",
    "transform = transforms.Compose(\n",
    "    [transforms.Grayscale(num_output_channels=1),\n",
    "     transforms.ToTensor()])\n",
    "dataset_test = datasets.ImageFolder(test_dir, transform=transform)\n",
    "dataset_train = datasets.ImageFolder(train_dir, transform=transform)\n",
    "dataset_val = datasets.ImageFolder(val_dir, transform=transform)\n",
    "\n",
    "loader_test = DataLoader(dataset_test, batch_size=batch_size, shuffle=True)\n",
    "loader_train = DataLoader(dataset_train, batch_size=batch_size, shuffle=True)\n",
    "loader_val = DataLoader(dataset_val, batch_size=batch_size, shuffle=True)"
   ],
   "metadata": {
    "collapsed": false,
    "pycharm": {
     "name": "#%%\n"
    }
   }
  },
  {
   "cell_type": "code",
   "execution_count": 47,
   "outputs": [],
   "source": [
    "# Setup model, loss, optimizer and total training steps\n",
    "model = ConvolutionalNeuralNet().to(device)\n",
    "criterion = nn.CrossEntropyLoss()\n",
    "optimizer = torch.optim.SGD(model.parameters(), lr=rate_learning)\n",
    "n_total_steps = len(loader_train)"
   ],
   "metadata": {
    "collapsed": false,
    "pycharm": {
     "name": "#%%\n"
    }
   }
  },
  {
   "cell_type": "code",
   "execution_count": 48,
   "outputs": [
    {
     "name": "stdout",
     "output_type": "stream",
     "text": [
      "Epoch [1/5], Step [100/1285], Loss: 0.6437\n",
      "Epoch [1/5], Step [200/1285], Loss: 0.7105\n",
      "Epoch [1/5], Step [300/1285], Loss: 0.5885\n",
      "Epoch [1/5], Step [400/1285], Loss: 0.5726\n",
      "Epoch [1/5], Step [500/1285], Loss: 0.5588\n",
      "Epoch [1/5], Step [600/1285], Loss: 0.5603\n",
      "Epoch [1/5], Step [700/1285], Loss: 0.7834\n",
      "Epoch [1/5], Step [800/1285], Loss: 0.3418\n",
      "Epoch [1/5], Step [900/1285], Loss: 0.5750\n",
      "Epoch [1/5], Step [1000/1285], Loss: 0.8185\n",
      "Epoch [1/5], Step [1100/1285], Loss: 0.3046\n",
      "Epoch [1/5], Step [1200/1285], Loss: 0.7938\n",
      "Epoch [2/5], Step [100/1285], Loss: 0.5681\n",
      "Epoch [2/5], Step [200/1285], Loss: 0.7953\n",
      "Epoch [2/5], Step [300/1285], Loss: 0.5430\n",
      "Epoch [2/5], Step [400/1285], Loss: 0.5712\n",
      "Epoch [2/5], Step [500/1285], Loss: 0.5544\n",
      "Epoch [2/5], Step [600/1285], Loss: 0.7955\n",
      "Epoch [2/5], Step [700/1285], Loss: 0.2931\n",
      "Epoch [2/5], Step [800/1285], Loss: 0.5302\n",
      "Epoch [2/5], Step [900/1285], Loss: 0.7883\n",
      "Epoch [2/5], Step [1000/1285], Loss: 0.5346\n",
      "Epoch [2/5], Step [1100/1285], Loss: 0.7927\n",
      "Epoch [2/5], Step [1200/1285], Loss: 0.5294\n",
      "Epoch [3/5], Step [100/1285], Loss: 0.5399\n",
      "Epoch [3/5], Step [200/1285], Loss: 0.2792\n",
      "Epoch [3/5], Step [300/1285], Loss: 0.4954\n",
      "Epoch [3/5], Step [400/1285], Loss: 0.1909\n",
      "Epoch [3/5], Step [500/1285], Loss: 0.3743\n",
      "Epoch [3/5], Step [600/1285], Loss: 0.3694\n",
      "Epoch [3/5], Step [700/1285], Loss: 0.1632\n",
      "Epoch [3/5], Step [800/1285], Loss: 0.6120\n",
      "Epoch [3/5], Step [900/1285], Loss: 0.2677\n",
      "Epoch [3/5], Step [1000/1285], Loss: 0.2948\n",
      "Epoch [3/5], Step [1100/1285], Loss: 0.2155\n",
      "Epoch [3/5], Step [1200/1285], Loss: 0.2827\n",
      "Epoch [4/5], Step [100/1285], Loss: 0.4029\n",
      "Epoch [4/5], Step [200/1285], Loss: 0.3322\n",
      "Epoch [4/5], Step [300/1285], Loss: 0.1258\n",
      "Epoch [4/5], Step [400/1285], Loss: 0.0894\n",
      "Epoch [4/5], Step [500/1285], Loss: 0.2505\n",
      "Epoch [4/5], Step [600/1285], Loss: 0.1567\n",
      "Epoch [4/5], Step [700/1285], Loss: 0.1531\n",
      "Epoch [4/5], Step [800/1285], Loss: 0.1525\n",
      "Epoch [4/5], Step [900/1285], Loss: 0.0196\n",
      "Epoch [4/5], Step [1000/1285], Loss: 0.0716\n",
      "Epoch [4/5], Step [1100/1285], Loss: 0.0287\n",
      "Epoch [4/5], Step [1200/1285], Loss: 0.0545\n",
      "Epoch [5/5], Step [100/1285], Loss: 0.0884\n",
      "Epoch [5/5], Step [200/1285], Loss: 0.4016\n",
      "Epoch [5/5], Step [300/1285], Loss: 0.1261\n",
      "Epoch [5/5], Step [400/1285], Loss: 0.0417\n",
      "Epoch [5/5], Step [500/1285], Loss: 0.1513\n",
      "Epoch [5/5], Step [600/1285], Loss: 0.0174\n",
      "Epoch [5/5], Step [700/1285], Loss: 0.4213\n",
      "Epoch [5/5], Step [800/1285], Loss: 1.5189\n",
      "Epoch [5/5], Step [900/1285], Loss: 0.2358\n",
      "Epoch [5/5], Step [1000/1285], Loss: 0.0058\n",
      "Epoch [5/5], Step [1100/1285], Loss: 0.3079\n",
      "Epoch [5/5], Step [1200/1285], Loss: 0.0350\n",
      "Finished Training\n"
     ]
    }
   ],
   "source": [
    "# Start model training\n",
    "for epoch in range(num_epochs):\n",
    "    for i, (images, labels) in enumerate(loader_train):\n",
    "        images = images.to(device)\n",
    "        labels = labels.to(device)\n",
    "\n",
    "        outputs = model(images)\n",
    "        loss = criterion(outputs, labels)\n",
    "\n",
    "        optimizer.zero_grad()\n",
    "        loss.backward()\n",
    "        optimizer.step()\n",
    "\n",
    "        if (i + 1) % 100 == 0:\n",
    "            print (f'Epoch [{epoch+1}/{num_epochs}], Step [{i+1}/{n_total_steps}], Loss: {loss.item():.4f}')\n",
    "print('Finished Training')"
   ],
   "metadata": {
    "collapsed": false,
    "pycharm": {
     "name": "#%%\n"
    }
   }
  },
  {
   "cell_type": "code",
   "execution_count": 49,
   "outputs": [
    {
     "name": "stdout",
     "output_type": "stream",
     "text": [
      "Accuracy of the network: 72.91666666666667 %\n",
      "Accuracy of Normal: 29.49 %\n",
      "Accuracy of Pneumonia: 98.97 %\n"
     ]
    }
   ],
   "source": [
    "with torch.no_grad():\n",
    "    n_correct = 0\n",
    "    n_samples = 0\n",
    "    n_class_correct = [0 for i in range(2)]\n",
    "    n_class_samples = [0 for i in range(2)]\n",
    "    for images, labels in loader_test:\n",
    "        images = images.to(device)\n",
    "        labels = labels.to(device)\n",
    "        outputs = model(images)\n",
    "        _, predictions = torch.max(outputs, 1)\n",
    "        n_samples += labels.size(0)\n",
    "        n_correct += (predictions == labels).sum().item()\n",
    "\n",
    "        for i in range(batch_size):\n",
    "            label = labels[i]\n",
    "            pred = predictions[i]\n",
    "            if label == pred:\n",
    "                n_class_correct[label] += 1\n",
    "            n_class_samples[label] += 1\n",
    "\n",
    "    acc = 100.0 * n_correct / n_samples\n",
    "    print(f'Accuracy of the network: {acc} %')\n",
    "\n",
    "    for i in range(2):\n",
    "        acc = 100.0 * n_class_correct[i] / n_class_samples[i]\n",
    "        print(f'Accuracy of {classes[i]}: {acc:.2f} %')"
   ],
   "metadata": {
    "collapsed": false,
    "pycharm": {
     "name": "#%%\n"
    }
   }
  },
  {
   "cell_type": "code",
   "execution_count": 10,
   "outputs": [
    {
     "name": "stdout",
     "output_type": "stream",
     "text": [
      "['NORMAL', 'PNEUMONIA']\n",
      "{'NORMAL': 0, 'PNEUMONIA': 1}\n"
     ]
    }
   ],
   "source": [
    "# Show classes names and value\n",
    "print(dataset_test.classes)\n",
    "print(dataset_test.class_to_idx)"
   ],
   "metadata": {
    "collapsed": false,
    "pycharm": {
     "name": "#%%\n"
    }
   }
  },
  {
   "cell_type": "code",
   "execution_count": 41,
   "outputs": [
    {
     "name": "stdout",
     "output_type": "stream",
     "text": [
      "torch.Size([4, 1, 300, 300])\n",
      "The answer of images are tensor([0, 1, 0, 1])\n"
     ]
    },
    {
     "data": {
      "text/plain": "<Figure size 432x288 with 1 Axes>",
      "image/png": "[encoded data removed]"
     },
     "metadata": {
      "needs_background": "light"
     },
     "output_type": "display_data"
    }
   ],
   "source": [
    "# Check loaded data samples\n",
    "images, labels = next(iter(loader_val))\n",
    "print(images.shape)\n",
    "\n",
    "plt.imshow(torchvision.utils.make_grid(images).permute(1,2,0))\n",
    "print(f'The answer of images are {labels}')"
   ],
   "metadata": {
    "collapsed": false,
    "pycharm": {
     "name": "#%%\n"
    }
   }
  },
  {
   "cell_type": "code",
   "execution_count": 42,
   "outputs": [
    {
     "name": "stdout",
     "output_type": "stream",
     "text": [
      "Shape of Conv NN Layer 1 torch.Size([4, 6, 296, 296])\n",
      "Shape of Layer after pool torch.Size([4, 6, 74, 74])\n",
      "Shape of Conv NN Layer 2 torch.Size([4, 16, 70, 70])\n",
      "Shape of Layer after pool torch.Size([4, 16, 17, 17])\n"
     ]
    }
   ],
   "source": [
    "# Load a batch of sample images, to verify the network connections\n",
    "conv1 = nn.Conv2d(1, 6, 5)\n",
    "pool = nn.MaxPool2d(4, 4)\n",
    "conv2 = nn.Conv2d(6, 16, 5)\n",
    "x = conv1(images)\n",
    "print(f'Shape of Conv NN Layer 1 {x.shape}')\n",
    "x = pool(F.relu(x))\n",
    "print(f'Shape of Layer after pool {x.shape}')\n",
    "x = conv2(x)\n",
    "print(f'Shape of Conv NN Layer 2 {x.shape}')\n",
    "x = pool(F.relu(x))\n",
    "print(f'Shape of Layer after pool {x.shape}')\n",
    "# x = conv3(x)\n",
    "# print(f'Shape of Conv NN Layer 3 {x.shape}')\n",
    "# x = pool(F.relu(x))\n",
    "# print(f'Shape of Layer after pool {x.shape}')"
   ],
   "metadata": {
    "collapsed": false,
    "pycharm": {
     "name": "#%%\n"
    }
   }
  }
 ],
 "metadata": {
  "kernelspec": {
   "display_name": "Python 3",
   "language": "python",
   "name": "python3"
  },
  "language_info": {
   "codemirror_mode": {
    "name": "ipython",
    "version": 2
   },
   "file_extension": ".py",
   "mimetype": "text/x-python",
   "name": "python",
   "nbconvert_exporter": "python",
   "pygments_lexer": "ipython2",
   "version": "2.7.6"
  }
 },
 "nbformat": 4,
 "nbformat_minor": 0
}