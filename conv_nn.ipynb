{
 "cells": [
  {
   "cell_type": "code",
   "execution_count": 20,
   "metadata": {
    "collapsed": true
   },
   "outputs": [],
   "source": [
    "import torch\n",
    "import torch.nn as nn\n",
    "import torch.nn.functional as F\n",
    "from torch.utils.data import DataLoader\n",
    "from torchvision import transforms, datasets\n",
    "import os"
   ]
  },
  {
   "cell_type": "code",
   "execution_count": 21,
   "outputs": [],
   "source": [
    "# noinspection PyTypeChecker\n",
    "class ConvolutionalNeuralNet(nn.Module):\n",
    "    def __init__(self):\n",
    "        super(ConvolutionalNeuralNet, self).__init__()\n",
    "        self.conv1 = nn.Conv2d(1, 6, kernel_size=5)  # 3: colors - R G B, 6: output layer size, 5: convolution kernel size\n",
    "        self.pool = nn.MaxPool2d(4, 4)  #4: Pool size, 4: Stride size\n",
    "        self.conv2 = nn.Conv2d(6, 16, kernel_size=5)\n",
    "        self.fc1 = nn.LazyLinear(120)\n",
    "        self.fc2 = nn.Linear(120, 84)\n",
    "        self.fc3 = nn.Linear(84, 2)\n",
    "\n",
    "    def forward(self, x):  # n: number samples in a batch.\n",
    "        # Start with n, 3, 32, 32\n",
    "        x = self.pool(F.relu(self.conv1(x)))\n",
    "        x = self.pool(F.relu(self.conv2(x)))\n",
    "        x = torch.flatten(x, 1) # flatten all dimensions except batch\n",
    "        x = F.relu(self.fc1(x))\n",
    "        x = F.relu(self.fc2(x))\n",
    "        x = self.fc3(x)\n",
    "        return x\n",
    "\n",
    "# Use local GPU for CNN models\n",
    "device = torch.device('cuda' if torch.cuda.is_available() else 'cpu')"
   ],
   "metadata": {
    "collapsed": false,
    "pycharm": {
     "name": "#%%\n"
    }
   }
  },
  {
   "cell_type": "code",
   "execution_count": 22,
   "outputs": [],
   "source": [
    "# Set ML configuration\n",
    "data_dir = r'../Pneumonia_classification_data/reshape_500'\n",
    "device = torch.device('cuda' if torch.cuda.is_available() else 'cpu')\n",
    "num_epochs = 5\n",
    "batch_size = 4\n",
    "rate_learning = 0.001\n",
    "classes = ('Normal', 'Pneumonia')"
   ],
   "metadata": {
    "collapsed": false,
    "pycharm": {
     "name": "#%%\n"
    }
   }
  },
  {
   "cell_type": "code",
   "execution_count": 23,
   "outputs": [],
   "source": [
    "# Load and transform datasets\n",
    "# Images are processed from main.py to 300x300 greyscale jpeg format\n",
    "test_dir = os.path.join(data_dir, 'test')\n",
    "train_dir = os.path.join(data_dir, 'train')\n",
    "val_dir = os.path.join(data_dir, 'val')\n",
    "\n",
    "\n",
    "transform = transforms.Compose(\n",
    "    [transforms.Grayscale(num_output_channels=1),\n",
    "     transforms.ToTensor()])\n",
    "dataset_test = datasets.ImageFolder(test_dir, transform=transform)\n",
    "dataset_train = datasets.ImageFolder(train_dir, transform=transform)\n",
    "dataset_val = datasets.ImageFolder(val_dir, transform=transform)\n",
    "\n",
    "loader_test = DataLoader(dataset_test, batch_size=batch_size, shuffle=True)\n",
    "loader_train = DataLoader(dataset_train, batch_size=batch_size, shuffle=True)\n",
    "loader_val = DataLoader(dataset_val, batch_size=batch_size, shuffle=True)"
   ],
   "metadata": {
    "collapsed": false,
    "pycharm": {
     "name": "#%%\n"
    }
   }
  },
  {
   "cell_type": "code",
   "execution_count": 24,
   "outputs": [
    {
     "name": "stderr",
     "output_type": "stream",
     "text": [
      "C:\\Users\\Wenda\\anaconda3\\lib\\site-packages\\torch\\nn\\modules\\lazy.py:178: UserWarning: Lazy modules are a new feature under heavy development so changes to the API or functionality can happen at any moment.\n",
      "  warnings.warn('Lazy modules are a new feature under heavy development '\n"
     ]
    }
   ],
   "source": [
    "# Setup model, loss, optimizer and total training steps\n",
    "model = ConvolutionalNeuralNet().to(device)\n",
    "criterion = nn.CrossEntropyLoss()\n",
    "optimizer = torch.optim.SGD(model.parameters(), lr=rate_learning)\n",
    "n_total_steps = len(loader_train)"
   ],
   "metadata": {
    "collapsed": false,
    "pycharm": {
     "name": "#%%\n"
    }
   }
  },
  {
   "cell_type": "code",
   "execution_count": 25,
   "outputs": [
    {
     "name": "stdout",
     "output_type": "stream",
     "text": [
      "Epoch [1/5], Step [100/1243], Loss: 0.6544\n",
      "Epoch [1/5], Step [200/1243], Loss: 0.6982\n",
      "Epoch [1/5], Step [300/1243], Loss: 0.5573\n",
      "Epoch [1/5], Step [400/1243], Loss: 0.6210\n",
      "Epoch [1/5], Step [500/1243], Loss: 0.6129\n",
      "Epoch [1/5], Step [600/1243], Loss: 0.6004\n",
      "Epoch [1/5], Step [700/1243], Loss: 0.5892\n",
      "Epoch [1/5], Step [800/1243], Loss: 0.5672\n",
      "Epoch [1/5], Step [900/1243], Loss: 1.1954\n",
      "Epoch [1/5], Step [1000/1243], Loss: 0.5676\n",
      "Epoch [1/5], Step [1100/1243], Loss: 0.3105\n",
      "Epoch [1/5], Step [1200/1243], Loss: 0.5373\n",
      "Epoch [2/5], Step [100/1243], Loss: 0.3219\n",
      "Epoch [2/5], Step [200/1243], Loss: 0.5547\n",
      "Epoch [2/5], Step [300/1243], Loss: 0.5673\n",
      "Epoch [2/5], Step [400/1243], Loss: 0.3067\n",
      "Epoch [2/5], Step [500/1243], Loss: 0.8130\n",
      "Epoch [2/5], Step [600/1243], Loss: 1.1610\n",
      "Epoch [2/5], Step [700/1243], Loss: 0.5365\n",
      "Epoch [2/5], Step [800/1243], Loss: 0.5647\n",
      "Epoch [2/5], Step [900/1243], Loss: 0.3147\n",
      "Epoch [2/5], Step [1000/1243], Loss: 0.7458\n",
      "Epoch [2/5], Step [1100/1243], Loss: 0.7854\n",
      "Epoch [2/5], Step [1200/1243], Loss: 0.7195\n",
      "Epoch [3/5], Step [100/1243], Loss: 0.2900\n",
      "Epoch [3/5], Step [200/1243], Loss: 0.6083\n",
      "Epoch [3/5], Step [300/1243], Loss: 0.1442\n",
      "Epoch [3/5], Step [400/1243], Loss: 0.5083\n",
      "Epoch [3/5], Step [500/1243], Loss: 0.2012\n",
      "Epoch [3/5], Step [600/1243], Loss: 0.7300\n",
      "Epoch [3/5], Step [700/1243], Loss: 0.6840\n",
      "Epoch [3/5], Step [800/1243], Loss: 0.4428\n",
      "Epoch [3/5], Step [900/1243], Loss: 0.1760\n",
      "Epoch [3/5], Step [1000/1243], Loss: 0.0090\n",
      "Epoch [3/5], Step [1100/1243], Loss: 0.2690\n",
      "Epoch [3/5], Step [1200/1243], Loss: 0.0679\n",
      "Epoch [4/5], Step [100/1243], Loss: 0.2297\n",
      "Epoch [4/5], Step [200/1243], Loss: 0.3138\n",
      "Epoch [4/5], Step [300/1243], Loss: 0.0607\n",
      "Epoch [4/5], Step [400/1243], Loss: 0.0260\n",
      "Epoch [4/5], Step [500/1243], Loss: 0.3675\n",
      "Epoch [4/5], Step [600/1243], Loss: 0.3847\n",
      "Epoch [4/5], Step [700/1243], Loss: 0.3161\n",
      "Epoch [4/5], Step [800/1243], Loss: 0.3359\n",
      "Epoch [4/5], Step [900/1243], Loss: 0.1850\n",
      "Epoch [4/5], Step [1000/1243], Loss: 0.2267\n",
      "Epoch [4/5], Step [1100/1243], Loss: 0.8540\n",
      "Epoch [4/5], Step [1200/1243], Loss: 0.0232\n",
      "Epoch [5/5], Step [100/1243], Loss: 0.0852\n",
      "Epoch [5/5], Step [200/1243], Loss: 0.0226\n",
      "Epoch [5/5], Step [300/1243], Loss: 0.0473\n",
      "Epoch [5/5], Step [400/1243], Loss: 0.6199\n",
      "Epoch [5/5], Step [500/1243], Loss: 0.4817\n",
      "Epoch [5/5], Step [600/1243], Loss: 0.0959\n",
      "Epoch [5/5], Step [700/1243], Loss: 0.0856\n",
      "Epoch [5/5], Step [800/1243], Loss: 0.0090\n",
      "Epoch [5/5], Step [900/1243], Loss: 0.0058\n",
      "Epoch [5/5], Step [1000/1243], Loss: 0.0087\n",
      "Epoch [5/5], Step [1100/1243], Loss: 0.2733\n",
      "Epoch [5/5], Step [1200/1243], Loss: 0.4921\n",
      "Finished Training\n"
     ]
    }
   ],
   "source": [
    "# Start model training\n",
    "for epoch in range(num_epochs):\n",
    "    for i, (images, labels) in enumerate(loader_train):\n",
    "        images = images.to(device)\n",
    "        labels = labels.to(device)\n",
    "\n",
    "        outputs = model(images)\n",
    "        loss = criterion(outputs, labels)\n",
    "\n",
    "        optimizer.zero_grad()\n",
    "        loss.backward()\n",
    "        optimizer.step()\n",
    "\n",
    "        if (i + 1) % 100 == 0:\n",
    "            print (f'Epoch [{epoch+1}/{num_epochs}], Step [{i+1}/{n_total_steps}], Loss: {loss.item():.4f}')\n",
    "print('Finished Training')"
   ],
   "metadata": {
    "collapsed": false,
    "pycharm": {
     "name": "#%%\n"
    }
   }
  },
  {
   "cell_type": "code",
   "execution_count": 26,
   "outputs": [
    {
     "name": "stdout",
     "output_type": "stream",
     "text": [
      "Accuracy of the network: 73.92739273927393 %\n",
      "Accuracy of Normal: 35.19 %\n",
      "Accuracy of Pneumonia: 98.12 %\n"
     ]
    }
   ],
   "source": [
    "with torch.no_grad():\n",
    "    n_correct = 0\n",
    "    n_samples = 0\n",
    "    n_class_correct = [0 for i in range(2)]\n",
    "    n_class_samples = [0 for i in range(2)]\n",
    "    for images, labels in loader_test:\n",
    "        images = images.to(device)\n",
    "        labels = labels.to(device)\n",
    "        outputs = model(images)\n",
    "        _, predictions = torch.max(outputs, 1)\n",
    "        n_samples += labels.size(0)\n",
    "        n_correct += (predictions == labels).sum().item()\n",
    "\n",
    "        for i in range(len(labels)):\n",
    "            label = labels[i]\n",
    "            pred = predictions[i]\n",
    "            if label == pred:\n",
    "                n_class_correct[label] += 1\n",
    "            n_class_samples[label] += 1\n",
    "\n",
    "    acc = 100.0 * n_correct / n_samples\n",
    "    print(f'Accuracy of the network: {acc} %')\n",
    "\n",
    "    for i in range(2):\n",
    "        acc = 100.0 * n_class_correct[i] / n_class_samples[i]\n",
    "        print(f'Accuracy of {classes[i]}: {acc:.2f} %')"
   ],
   "metadata": {
    "collapsed": false,
    "pycharm": {
     "name": "#%%\n"
    }
   }
  },
  {
   "cell_type": "code",
   "execution_count": null,
   "outputs": [],
   "source": [],
   "metadata": {
    "collapsed": false,
    "pycharm": {
     "name": "#%%\n"
    }
   }
  }
 ],
 "metadata": {
  "kernelspec": {
   "display_name": "Python 3",
   "language": "python",
   "name": "python3"
  },
  "language_info": {
   "codemirror_mode": {
    "name": "ipython",
    "version": 2
   },
   "file_extension": ".py",
   "mimetype": "text/x-python",
   "name": "python",
   "nbconvert_exporter": "python",
   "pygments_lexer": "ipython2",
   "version": "2.7.6"
  }
 },
 "nbformat": 4,
 "nbformat_minor": 0
}