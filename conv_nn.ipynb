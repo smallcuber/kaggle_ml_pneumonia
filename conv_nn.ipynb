{
 "cells": [
  {
   "cell_type": "code",
   "execution_count": 1,
   "metadata": {
    "collapsed": true
   },
   "outputs": [],
   "source": [
    "import torch\n",
    "import torch.nn as nn\n",
    "import torch.nn.functional as F\n",
    "from torch.utils.data import DataLoader\n",
    "import torchvision\n",
    "from torchvision import transforms, datasets\n",
    "import os\n",
    "from PIL import Image\n",
    "import matplotlib.pyplot as plt"
   ]
  },
  {
   "cell_type": "code",
   "execution_count": 2,
   "outputs": [],
   "source": [
    "class ConvolutionalNeuralNet(nn.Module):\n",
    "    def __init__(self):\n",
    "        super(ConvolutionalNeuralNet, self).__init__()\n",
    "        self.conv1 = nn.Conv2d(1, 6, 5)  # 3: colors - R G B, 6: output layer size, 5: convolution kernel size\n",
    "        self.pool = nn.MaxPool2d(4, 4)  #4: Pool size, 4: Stride size\n",
    "        self.conv2 = nn.Conv2d(6, 16, 5)\n",
    "        self.fc1 = nn.Linear(16*30*30, 120)\n",
    "        self.fc2 = nn.Linear(120, 84)\n",
    "        self.fc3 = nn.Linear(84, 2)\n",
    "\n",
    "    def forward(self, x):  # n: number samples in a batch.\n",
    "        # Start with n, 3, 32, 32\n",
    "        x = self.pool(F.relu(self.conv1(x)))\n",
    "        x = self.pool(F.relu(self.conv2(x)))\n",
    "        x = torch.flatten(x, 1) # flatten all dimensions except batch\n",
    "        x = F.relu(self.fc1(x))\n",
    "        x = F.relu(self.fc2(x))\n",
    "        x = self.fc3(x)\n",
    "        return x\n",
    "\n",
    "# Use local GPU for CNN models\n",
    "device = torch.device('cuda' if torch.cuda.is_available() else 'cpu')"
   ],
   "metadata": {
    "collapsed": false,
    "pycharm": {
     "name": "#%%\n"
    }
   }
  },
  {
   "cell_type": "code",
   "execution_count": 3,
   "outputs": [],
   "source": [
    "# Set ML configuration\n",
    "data_dir = r'../Pneumonia_classification_data/reshape_500'\n",
    "device = torch.device('cuda' if torch.cuda.is_available() else 'cpu')\n",
    "num_epochs = 5\n",
    "batch_size = 4\n",
    "rate_learning = 0.001\n",
    "classes = ('Normal', 'Pneumonia')"
   ],
   "metadata": {
    "collapsed": false,
    "pycharm": {
     "name": "#%%\n"
    }
   }
  },
  {
   "cell_type": "code",
   "execution_count": 4,
   "outputs": [],
   "source": [
    "# Load and transform datasets\n",
    "# Images are processed from main.py to 300x300 greyscale jpeg format\n",
    "test_dir = os.path.join(data_dir, 'test')\n",
    "train_dir = os.path.join(data_dir, 'train')\n",
    "val_dir = os.path.join(data_dir, 'val')\n",
    "\n",
    "\n",
    "transform = transforms.Compose(\n",
    "    [transforms.Grayscale(num_output_channels=1),\n",
    "     transforms.ToTensor()])\n",
    "dataset_test = datasets.ImageFolder(test_dir, transform=transform)\n",
    "dataset_train = datasets.ImageFolder(train_dir, transform=transform)\n",
    "dataset_val = datasets.ImageFolder(val_dir, transform=transform)\n",
    "\n",
    "loader_test = DataLoader(dataset_test, batch_size=batch_size, shuffle=True)\n",
    "loader_train = DataLoader(dataset_train, batch_size=batch_size, shuffle=True)\n",
    "loader_val = DataLoader(dataset_val, batch_size=batch_size, shuffle=True)"
   ],
   "metadata": {
    "collapsed": false,
    "pycharm": {
     "name": "#%%\n"
    }
   }
  },
  {
   "cell_type": "code",
   "execution_count": 5,
   "outputs": [],
   "source": [
    "# Setup model, loss, optimizer and total training steps\n",
    "model = ConvolutionalNeuralNet().to(device)\n",
    "criterion = nn.CrossEntropyLoss()\n",
    "optimizer = torch.optim.SGD(model.parameters(), lr=rate_learning)\n",
    "n_total_steps = len(loader_train)"
   ],
   "metadata": {
    "collapsed": false,
    "pycharm": {
     "name": "#%%\n"
    }
   }
  },
  {
   "cell_type": "code",
   "execution_count": 6,
   "outputs": [
    {
     "name": "stdout",
     "output_type": "stream",
     "text": [
      "Epoch [1/5], Step [100/1243], Loss: 0.7469\n",
      "Epoch [1/5], Step [200/1243], Loss: 0.6168\n",
      "Epoch [1/5], Step [300/1243], Loss: 0.7585\n",
      "Epoch [1/5], Step [400/1243], Loss: 0.3093\n",
      "Epoch [1/5], Step [500/1243], Loss: 0.5882\n",
      "Epoch [1/5], Step [600/1243], Loss: 0.7278\n",
      "Epoch [1/5], Step [700/1243], Loss: 0.5409\n",
      "Epoch [1/5], Step [800/1243], Loss: 0.3131\n",
      "Epoch [1/5], Step [900/1243], Loss: 0.7099\n",
      "Epoch [1/5], Step [1000/1243], Loss: 0.2223\n",
      "Epoch [1/5], Step [1100/1243], Loss: 0.4575\n",
      "Epoch [1/5], Step [1200/1243], Loss: 0.2147\n",
      "Epoch [2/5], Step [100/1243], Loss: 0.9167\n",
      "Epoch [2/5], Step [200/1243], Loss: 0.4977\n",
      "Epoch [2/5], Step [300/1243], Loss: 0.0807\n",
      "Epoch [2/5], Step [400/1243], Loss: 0.1853\n",
      "Epoch [2/5], Step [500/1243], Loss: 0.1359\n",
      "Epoch [2/5], Step [600/1243], Loss: 0.0810\n",
      "Epoch [2/5], Step [700/1243], Loss: 0.1849\n",
      "Epoch [2/5], Step [800/1243], Loss: 0.0292\n",
      "Epoch [2/5], Step [900/1243], Loss: 0.0878\n",
      "Epoch [2/5], Step [1000/1243], Loss: 0.4017\n",
      "Epoch [2/5], Step [1100/1243], Loss: 0.2573\n",
      "Epoch [2/5], Step [1200/1243], Loss: 1.6651\n",
      "Epoch [3/5], Step [100/1243], Loss: 0.0118\n",
      "Epoch [3/5], Step [200/1243], Loss: 0.0507\n",
      "Epoch [3/5], Step [300/1243], Loss: 0.1027\n",
      "Epoch [3/5], Step [400/1243], Loss: 0.0119\n",
      "Epoch [3/5], Step [500/1243], Loss: 0.9920\n",
      "Epoch [3/5], Step [600/1243], Loss: 0.0066\n",
      "Epoch [3/5], Step [700/1243], Loss: 0.4974\n",
      "Epoch [3/5], Step [800/1243], Loss: 0.0576\n",
      "Epoch [3/5], Step [900/1243], Loss: 0.0482\n",
      "Epoch [3/5], Step [1000/1243], Loss: 0.0933\n",
      "Epoch [3/5], Step [1100/1243], Loss: 0.1990\n",
      "Epoch [3/5], Step [1200/1243], Loss: 0.1648\n",
      "Epoch [4/5], Step [100/1243], Loss: 0.1614\n",
      "Epoch [4/5], Step [200/1243], Loss: 0.5327\n",
      "Epoch [4/5], Step [300/1243], Loss: 0.0189\n",
      "Epoch [4/5], Step [400/1243], Loss: 0.0991\n",
      "Epoch [4/5], Step [500/1243], Loss: 1.0583\n",
      "Epoch [4/5], Step [600/1243], Loss: 0.4779\n",
      "Epoch [4/5], Step [700/1243], Loss: 0.0142\n",
      "Epoch [4/5], Step [800/1243], Loss: 0.0091\n",
      "Epoch [4/5], Step [900/1243], Loss: 0.0573\n",
      "Epoch [4/5], Step [1000/1243], Loss: 0.0009\n",
      "Epoch [4/5], Step [1100/1243], Loss: 0.0034\n",
      "Epoch [4/5], Step [1200/1243], Loss: 0.1303\n",
      "Epoch [5/5], Step [100/1243], Loss: 0.0552\n",
      "Epoch [5/5], Step [200/1243], Loss: 0.0102\n",
      "Epoch [5/5], Step [300/1243], Loss: 0.0052\n",
      "Epoch [5/5], Step [400/1243], Loss: 0.0064\n",
      "Epoch [5/5], Step [500/1243], Loss: 0.0166\n",
      "Epoch [5/5], Step [600/1243], Loss: 0.0132\n",
      "Epoch [5/5], Step [700/1243], Loss: 0.0002\n",
      "Epoch [5/5], Step [800/1243], Loss: 0.0044\n",
      "Epoch [5/5], Step [900/1243], Loss: 0.3904\n",
      "Epoch [5/5], Step [1000/1243], Loss: 0.4522\n",
      "Epoch [5/5], Step [1100/1243], Loss: 0.2102\n",
      "Epoch [5/5], Step [1200/1243], Loss: 0.1498\n",
      "Finished Training\n"
     ]
    }
   ],
   "source": [
    "# Start model training\n",
    "for epoch in range(num_epochs):\n",
    "    for i, (images, labels) in enumerate(loader_train):\n",
    "        images = images.to(device)\n",
    "        labels = labels.to(device)\n",
    "\n",
    "        outputs = model(images)\n",
    "        loss = criterion(outputs, labels)\n",
    "\n",
    "        optimizer.zero_grad()\n",
    "        loss.backward()\n",
    "        optimizer.step()\n",
    "\n",
    "        if (i + 1) % 100 == 0:\n",
    "            print (f'Epoch [{epoch+1}/{num_epochs}], Step [{i+1}/{n_total_steps}], Loss: {loss.item():.4f}')\n",
    "print('Finished Training')"
   ],
   "metadata": {
    "collapsed": false,
    "pycharm": {
     "name": "#%%\n"
    }
   }
  },
  {
   "cell_type": "code",
   "execution_count": 7,
   "outputs": [
    {
     "name": "stdout",
     "output_type": "stream",
     "text": [
      "Accuracy of the network: 71.61716171617162 %\n",
      "Accuracy of Normal: 27.04 %\n",
      "Accuracy of Pneumonia: 99.46 %\n"
     ]
    }
   ],
   "source": [
    "with torch.no_grad():\n",
    "    n_correct = 0\n",
    "    n_samples = 0\n",
    "    n_class_correct = [0 for i in range(2)]\n",
    "    n_class_samples = [0 for i in range(2)]\n",
    "    for images, labels in loader_test:\n",
    "        images = images.to(device)\n",
    "        labels = labels.to(device)\n",
    "        outputs = model(images)\n",
    "        _, predictions = torch.max(outputs, 1)\n",
    "        n_samples += labels.size(0)\n",
    "        n_correct += (predictions == labels).sum().item()\n",
    "\n",
    "        for i in range(len(labels)):\n",
    "            label = labels[i]\n",
    "            pred = predictions[i]\n",
    "            if label == pred:\n",
    "                n_class_correct[label] += 1\n",
    "            n_class_samples[label] += 1\n",
    "\n",
    "    acc = 100.0 * n_correct / n_samples\n",
    "    print(f'Accuracy of the network: {acc} %')\n",
    "\n",
    "    for i in range(2):\n",
    "        acc = 100.0 * n_class_correct[i] / n_class_samples[i]\n",
    "        print(f'Accuracy of {classes[i]}: {acc:.2f} %')"
   ],
   "metadata": {
    "collapsed": false,
    "pycharm": {
     "name": "#%%\n"
    }
   }
  },
  {
   "cell_type": "code",
   "execution_count": null,
   "outputs": [],
   "source": [],
   "metadata": {
    "collapsed": false,
    "pycharm": {
     "name": "#%%\n"
    }
   }
  }
 ],
 "metadata": {
  "kernelspec": {
   "display_name": "Python 3",
   "language": "python",
   "name": "python3"
  },
  "language_info": {
   "codemirror_mode": {
    "name": "ipython",
    "version": 2
   },
   "file_extension": ".py",
   "mimetype": "text/x-python",
   "name": "python",
   "nbconvert_exporter": "python",
   "pygments_lexer": "ipython2",
   "version": "2.7.6"
  }
 },
 "nbformat": 4,
 "nbformat_minor": 0
}