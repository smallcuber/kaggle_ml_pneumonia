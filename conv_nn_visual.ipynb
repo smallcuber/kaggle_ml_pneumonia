{
 "cells": [
  {
   "cell_type": "code",
   "metadata": {
    "collapsed": true,
    "pycharm": {
     "name": "#%%\n"
    }
   },
   "source": [
    "import torch\n",
    "import torch.nn as nn\n",
    "import torchvision\n",
    "from torch.utils.data import DataLoader\n",
    "from torchvision import transforms, datasets\n",
    "import os\n",
    "from torch.utils.tensorboard import SummaryWriter"
   ],
   "execution_count": null,
   "outputs": []
  },
  {
   "cell_type": "code",
   "source": [
    "# noinspection PyTypeChecker\n",
    "class ConvolutionalNeuralNet(nn.Module):\n",
    "    def __init__(self):\n",
    "        super(ConvolutionalNeuralNet, self).__init__()\n",
    "        self.conv1 = nn.Conv2d(1, 6, 5)  # 3: colors - R G B, 6: output layer size, 5: convolution kernel size\n",
    "        self.pool = nn.MaxPool2d(4, 4)  #4: Pool size, 4: Stride size\n",
    "        self.conv2 = nn.Conv2d(6, 16, 5)\n",
    "        self.fc1 = nn.LazyLinear(120)\n",
    "        self.fc2 = nn.Linear(120, 84)\n",
    "        self.fc3 = nn.Linear(84, 2)\n",
    "\n",
    "        self.model_feature_learning = torch.nn.Sequential(\n",
    "            self.conv1,\n",
    "            nn.ReLU(),\n",
    "            self.pool,\n",
    "            self.conv2,\n",
    "            nn.ReLU(),\n",
    "            self.pool\n",
    "        )\n",
    "\n",
    "        self.model_classification = torch.nn.Sequential(\n",
    "            self.fc1,\n",
    "            nn.ReLU(),\n",
    "            self.fc2,\n",
    "            nn.ReLU(),\n",
    "            self.fc3\n",
    "        )\n",
    "\n",
    "    def forward(self, x):  # n: number samples in a batch.\n",
    "        # Start with n, 3, 32, 32\n",
    "        x = self.model_feature_learning(x)\n",
    "        x = torch.flatten(x, 1) # flatten all dimensions except batch\n",
    "        x = self.model_classification(x)\n",
    "        return x\n",
    "\n",
    "\n",
    "writer = SummaryWriter('runs/mnist')\n",
    "# Use local GPU for CNN models\n",
    "device = torch.device('cuda' if torch.cuda.is_available() else 'cpu')"
   ],
   "metadata": {
    "collapsed": false,
    "pycharm": {
     "name": "#%%\n"
    }
   },
   "execution_count": null,
   "outputs": []
  },
  {
   "cell_type": "code",
   "execution_count": 30,
   "outputs": [],
   "source": [
    "# Set ML configuration\n",
    "image_size = 400\n",
    "data_dir = rf'../Pneumonia_classification_data/reshape_{image_size}'\n",
    "num_epochs = 10\n",
    "batch_size = 4\n",
    "rate_learning = 0.001\n",
    "classes = ('Normal', 'Pneumonia')"
   ],
   "metadata": {
    "collapsed": false,
    "pycharm": {
     "name": "#%%\n"
    }
   }
  },
  {
   "cell_type": "code",
   "execution_count": 31,
   "outputs": [],
   "source": [
    "# Load and transform datasets\n",
    "# Images are processed from main.py to 300x300 greyscale jpeg format\n",
    "test_dir = os.path.join(data_dir, 'test')\n",
    "train_dir = os.path.join(data_dir, 'train')\n",
    "val_dir = os.path.join(data_dir, 'val')\n",
    "\n",
    "\n",
    "transform = transforms.Compose(\n",
    "    [transforms.Grayscale(num_output_channels=1),\n",
    "     transforms.ToTensor()])\n",
    "dataset_test = datasets.ImageFolder(test_dir, transform=transform)\n",
    "dataset_train = datasets.ImageFolder(train_dir, transform=transform)\n",
    "dataset_val = datasets.ImageFolder(val_dir, transform=transform)\n",
    "\n",
    "loader_test = DataLoader(dataset_test, batch_size=batch_size, shuffle=True)\n",
    "loader_train = DataLoader(dataset_train, batch_size=batch_size, shuffle=True)\n",
    "loader_val = DataLoader(dataset_val, batch_size=batch_size, shuffle=True)"
   ],
   "metadata": {
    "collapsed": false,
    "pycharm": {
     "name": "#%%\n"
    }
   }
  },
  {
   "cell_type": "code",
   "execution_count": 32,
   "outputs": [],
   "source": [
    "# Display a batch of data\n",
    "examples = iter(loader_test)\n",
    "example_data, example_lable = examples.next()\n",
    "img_grid = torchvision.utils.make_grid(example_data)\n",
    "writer.add_image('test_images', img_grid)\n",
    "writer.close()"
   ],
   "metadata": {
    "collapsed": false,
    "pycharm": {
     "name": "#%%\n"
    }
   }
  },
  {
   "cell_type": "code",
   "execution_count": 33,
   "outputs": [],
   "source": [
    "# Setup model, loss, optimizer and total training steps\n",
    "model = ConvolutionalNeuralNet().to(device)\n",
    "criterion = nn.CrossEntropyLoss()\n",
    "optimizer = torch.optim.SGD(model.parameters(), lr=rate_learning)\n",
    "n_total_steps = len(loader_train)\n",
    "\n",
    "example_data = example_data.to(device)\n",
    "writer.add_graph(model, example_data)\n",
    "writer.close()"
   ],
   "metadata": {
    "collapsed": false,
    "pycharm": {
     "name": "#%%\n"
    }
   }
  },
  {
   "cell_type": "code",
   "execution_count": 34,
   "outputs": [
    {
     "name": "stdout",
     "output_type": "stream",
     "text": [
      "Epoch [1/10], Step [100/1277], Loss: 0.6807\n",
      "Epoch [1/10], Step [200/1277], Loss: 0.6501\n",
      "Epoch [1/10], Step [300/1277], Loss: 0.4717\n",
      "Epoch [1/10], Step [400/1277], Loss: 0.3850\n",
      "Epoch [1/10], Step [500/1277], Loss: 0.5494\n",
      "Epoch [1/10], Step [600/1277], Loss: 0.3240\n",
      "Epoch [1/10], Step [700/1277], Loss: 0.5674\n",
      "Epoch [1/10], Step [800/1277], Loss: 0.3116\n",
      "Epoch [1/10], Step [900/1277], Loss: 0.5714\n",
      "Epoch [1/10], Step [1000/1277], Loss: 0.3128\n",
      "Epoch [1/10], Step [1100/1277], Loss: 0.7958\n",
      "Epoch [1/10], Step [1200/1277], Loss: 1.1256\n",
      "Epoch [2/10], Step [100/1277], Loss: 0.5389\n",
      "Epoch [2/10], Step [200/1277], Loss: 0.5446\n",
      "Epoch [2/10], Step [300/1277], Loss: 0.7644\n",
      "Epoch [2/10], Step [400/1277], Loss: 1.0769\n",
      "Epoch [2/10], Step [500/1277], Loss: 0.7936\n",
      "Epoch [2/10], Step [600/1277], Loss: 0.5366\n",
      "Epoch [2/10], Step [700/1277], Loss: 1.0597\n",
      "Epoch [2/10], Step [800/1277], Loss: 0.4853\n",
      "Epoch [2/10], Step [900/1277], Loss: 0.2589\n",
      "Epoch [2/10], Step [1000/1277], Loss: 0.4855\n",
      "Epoch [2/10], Step [1100/1277], Loss: 0.6251\n",
      "Epoch [2/10], Step [1200/1277], Loss: 0.2448\n",
      "Epoch [3/10], Step [100/1277], Loss: 0.2979\n",
      "Epoch [3/10], Step [200/1277], Loss: 0.2996\n",
      "Epoch [3/10], Step [300/1277], Loss: 0.2866\n",
      "Epoch [3/10], Step [400/1277], Loss: 0.2640\n",
      "Epoch [3/10], Step [500/1277], Loss: 1.1300\n",
      "Epoch [3/10], Step [600/1277], Loss: 0.1547\n",
      "Epoch [3/10], Step [700/1277], Loss: 0.0059\n",
      "Epoch [3/10], Step [800/1277], Loss: 0.2790\n",
      "Epoch [3/10], Step [900/1277], Loss: 0.8757\n",
      "Epoch [3/10], Step [1000/1277], Loss: 0.0941\n",
      "Epoch [3/10], Step [1100/1277], Loss: 0.6604\n",
      "Epoch [3/10], Step [1200/1277], Loss: 1.1474\n",
      "Epoch [4/10], Step [100/1277], Loss: 0.0219\n",
      "Epoch [4/10], Step [200/1277], Loss: 0.0015\n",
      "Epoch [4/10], Step [300/1277], Loss: 0.1069\n",
      "Epoch [4/10], Step [400/1277], Loss: 0.0613\n",
      "Epoch [4/10], Step [500/1277], Loss: 0.0732\n",
      "Epoch [4/10], Step [600/1277], Loss: 0.0586\n",
      "Epoch [4/10], Step [700/1277], Loss: 0.1900\n",
      "Epoch [4/10], Step [800/1277], Loss: 0.0292\n",
      "Epoch [4/10], Step [900/1277], Loss: 0.0570\n",
      "Epoch [4/10], Step [1000/1277], Loss: 0.4939\n",
      "Epoch [4/10], Step [1100/1277], Loss: 0.7061\n",
      "Epoch [4/10], Step [1200/1277], Loss: 0.1519\n",
      "Epoch [5/10], Step [100/1277], Loss: 0.3602\n",
      "Epoch [5/10], Step [200/1277], Loss: 0.5130\n",
      "Epoch [5/10], Step [300/1277], Loss: 0.0473\n",
      "Epoch [5/10], Step [400/1277], Loss: 0.2985\n",
      "Epoch [5/10], Step [500/1277], Loss: 0.1681\n",
      "Epoch [5/10], Step [600/1277], Loss: 0.0636\n",
      "Epoch [5/10], Step [700/1277], Loss: 0.0199\n",
      "Epoch [5/10], Step [800/1277], Loss: 0.0956\n",
      "Epoch [5/10], Step [900/1277], Loss: 0.0211\n",
      "Epoch [5/10], Step [1000/1277], Loss: 0.8719\n",
      "Epoch [5/10], Step [1100/1277], Loss: 0.1098\n",
      "Epoch [5/10], Step [1200/1277], Loss: 0.0494\n",
      "Epoch [6/10], Step [100/1277], Loss: 0.0722\n",
      "Epoch [6/10], Step [200/1277], Loss: 0.0233\n",
      "Epoch [6/10], Step [300/1277], Loss: 0.0855\n",
      "Epoch [6/10], Step [400/1277], Loss: 0.0093\n",
      "Epoch [6/10], Step [500/1277], Loss: 0.7107\n",
      "Epoch [6/10], Step [600/1277], Loss: 0.1071\n",
      "Epoch [6/10], Step [700/1277], Loss: 0.0592\n",
      "Epoch [6/10], Step [800/1277], Loss: 0.1202\n",
      "Epoch [6/10], Step [900/1277], Loss: 0.5170\n",
      "Epoch [6/10], Step [1000/1277], Loss: 0.0264\n",
      "Epoch [6/10], Step [1100/1277], Loss: 0.0386\n",
      "Epoch [6/10], Step [1200/1277], Loss: 0.0333\n",
      "Epoch [7/10], Step [100/1277], Loss: 0.0424\n",
      "Epoch [7/10], Step [200/1277], Loss: 0.0073\n",
      "Epoch [7/10], Step [300/1277], Loss: 0.4453\n",
      "Epoch [7/10], Step [400/1277], Loss: 0.1800\n",
      "Epoch [7/10], Step [500/1277], Loss: 0.0947\n",
      "Epoch [7/10], Step [600/1277], Loss: 0.1293\n",
      "Epoch [7/10], Step [700/1277], Loss: 0.2833\n",
      "Epoch [7/10], Step [800/1277], Loss: 0.4636\n",
      "Epoch [7/10], Step [900/1277], Loss: 0.0684\n",
      "Epoch [7/10], Step [1000/1277], Loss: 0.0154\n",
      "Epoch [7/10], Step [1100/1277], Loss: 0.0925\n",
      "Epoch [7/10], Step [1200/1277], Loss: 0.3060\n",
      "Epoch [8/10], Step [100/1277], Loss: 0.0473\n",
      "Epoch [8/10], Step [200/1277], Loss: 0.2195\n",
      "Epoch [8/10], Step [300/1277], Loss: 0.2579\n",
      "Epoch [8/10], Step [400/1277], Loss: 0.3604\n",
      "Epoch [8/10], Step [500/1277], Loss: 0.1085\n",
      "Epoch [8/10], Step [600/1277], Loss: 0.0244\n",
      "Epoch [8/10], Step [700/1277], Loss: 0.0540\n",
      "Epoch [8/10], Step [800/1277], Loss: 0.0383\n",
      "Epoch [8/10], Step [900/1277], Loss: 0.2661\n",
      "Epoch [8/10], Step [1000/1277], Loss: 0.1423\n",
      "Epoch [8/10], Step [1100/1277], Loss: 0.4552\n",
      "Epoch [8/10], Step [1200/1277], Loss: 0.0710\n",
      "Epoch [9/10], Step [100/1277], Loss: 0.2740\n",
      "Epoch [9/10], Step [200/1277], Loss: 0.0425\n",
      "Epoch [9/10], Step [300/1277], Loss: 0.0286\n",
      "Epoch [9/10], Step [400/1277], Loss: 0.0230\n",
      "Epoch [9/10], Step [500/1277], Loss: 0.0131\n",
      "Epoch [9/10], Step [600/1277], Loss: 0.0006\n",
      "Epoch [9/10], Step [700/1277], Loss: 0.1851\n",
      "Epoch [9/10], Step [800/1277], Loss: 0.3277\n",
      "Epoch [9/10], Step [900/1277], Loss: 0.0624\n",
      "Epoch [9/10], Step [1000/1277], Loss: 0.0371\n",
      "Epoch [9/10], Step [1100/1277], Loss: 0.0040\n",
      "Epoch [9/10], Step [1200/1277], Loss: 0.0266\n",
      "Epoch [10/10], Step [100/1277], Loss: 0.0092\n",
      "Epoch [10/10], Step [200/1277], Loss: 0.6219\n",
      "Epoch [10/10], Step [300/1277], Loss: 0.0345\n",
      "Epoch [10/10], Step [400/1277], Loss: 0.2534\n",
      "Epoch [10/10], Step [500/1277], Loss: 0.0240\n",
      "Epoch [10/10], Step [600/1277], Loss: 0.0007\n",
      "Epoch [10/10], Step [700/1277], Loss: 0.1632\n",
      "Epoch [10/10], Step [800/1277], Loss: 0.0011\n",
      "Epoch [10/10], Step [900/1277], Loss: 0.0218\n",
      "Epoch [10/10], Step [1000/1277], Loss: 0.0166\n",
      "Epoch [10/10], Step [1100/1277], Loss: 0.0508\n",
      "Epoch [10/10], Step [1200/1277], Loss: 1.6556\n",
      "Finished Training\n"
     ]
    }
   ],
   "source": [
    "# Start model training\n",
    "running_loss = 0.0\n",
    "running_correct = 0\n",
    "for epoch in range(num_epochs):\n",
    "    for i, (images, labels) in enumerate(loader_train):\n",
    "        images = images.to(device)\n",
    "        labels = labels.to(device)\n",
    "\n",
    "        outputs = model(images)\n",
    "        loss = criterion(outputs, labels)\n",
    "\n",
    "        optimizer.zero_grad()\n",
    "        loss.backward()\n",
    "        optimizer.step()\n",
    "\n",
    "        running_loss += loss.item()\n",
    "        _, predicted = torch.max(outputs.data, 1)\n",
    "        running_correct += (predicted == labels).sum().item()\n",
    "\n",
    "        if (i + 1) % 100 == 0:\n",
    "            print (f'Epoch [{epoch+1}/{num_epochs}], Step [{i+1}/{n_total_steps}], Loss: {loss.item():.4f}')\n",
    "            writer.add_scalar('Loss/train', running_loss / 100, epoch * n_total_steps + i)\n",
    "            writer.add_scalar('Accuracy/train', running_correct / 100, epoch * n_total_steps + i)\n",
    "            running_loss = 0.0\n",
    "            running_correct = 0\n",
    "writer.close()\n",
    "print('Finished Training')"
   ],
   "metadata": {
    "collapsed": false,
    "pycharm": {
     "name": "#%%\n"
    }
   }
  },
  {
   "cell_type": "code",
   "execution_count": null,
   "outputs": [],
   "source": [
    "with torch.no_grad():\n",
    "    n_correct = 0\n",
    "    n_samples = 0\n",
    "    n_class_correct = [0 for i in range(2)]\n",
    "    n_class_samples = [0 for i in range(2)]\n",
    "    for images, labels in loader_test:\n",
    "        images = images.to(device)\n",
    "        labels = labels.to(device)\n",
    "        outputs = model(images)\n",
    "        _, predictions = torch.max(outputs, 1)\n",
    "        n_samples += labels.size(0)\n",
    "        n_correct += (predictions == labels).sum().item()\n",
    "\n",
    "        for i in range(len(labels)):\n",
    "            label = labels[i]\n",
    "            pred = predictions[i]\n",
    "            if label == pred:\n",
    "                n_class_correct[label] += 1\n",
    "            n_class_samples[label] += 1\n",
    "\n",
    "    acc = 100.0 * n_correct / n_samples\n",
    "    print(f'Accuracy of the network: {acc} %')\n",
    "\n",
    "    for i in range(2):\n",
    "        acc = 100.0 * n_class_correct[i] / n_class_samples[i]\n",
    "        print(f'Accuracy of {classes[i]}: {acc:.2f} %')"
   ],
   "metadata": {
    "collapsed": false,
    "pycharm": {
     "name": "#%%\n"
    }
   }
  },
  {
   "cell_type": "code",
   "execution_count": null,
   "outputs": [],
   "source": [],
   "metadata": {
    "collapsed": false,
    "pycharm": {
     "name": "#%%\n"
    }
   }
  }
 ],
 "metadata": {
  "kernelspec": {
   "display_name": "Python 3",
   "language": "python",
   "name": "python3"
  },
  "language_info": {
   "codemirror_mode": {
    "name": "ipython",
    "version": 2
   },
   "file_extension": ".py",
   "mimetype": "text/x-python",
   "name": "python",
   "nbconvert_exporter": "python",
   "pygments_lexer": "ipython2",
   "version": "2.7.6"
  }
 },
 "nbformat": 4,
 "nbformat_minor": 0
}