{
 "cells": [
  {
   "cell_type": "code",
   "execution_count": 4,
   "metadata": {
    "collapsed": true
   },
   "outputs": [],
   "source": [
    "import torch\n",
    "import torch.nn as nn\n",
    "import torch.nn.functional as F\n",
    "from torch.utils.data import DataLoader\n",
    "import torchvision\n",
    "from torchvision import transforms, datasets\n",
    "import os\n",
    "from PIL import Image\n",
    "import matplotlib.pyplot as plt\n",
    "import tensorboard"
   ]
  },
  {
   "cell_type": "code",
   "execution_count": 152,
   "outputs": [],
   "source": [
    "class ConvolutionalNeuralNet(nn.Module):\n",
    "    def __init__(self):\n",
    "        super(ConvolutionalNeuralNet, self).__init__()\n",
    "        self.conv1 = nn.Conv2d(1, 6, 5)  # 3: colors - R G B, 6: output layer size, 5: convolution kernel size\n",
    "        self.pool = nn.MaxPool2d(4, 4)  #4: Pool size, 4: Stride size\n",
    "        self.conv2 = nn.Conv2d(6, 16, 5)\n",
    "        self.fc1 = nn.Linear(16*23*23, 120)\n",
    "        self.fc2 = nn.Linear(120, 84)\n",
    "        self.fc3 = nn.Linear(84, 2)\n",
    "\n",
    "        self.model_feature_learning = torch.nn.Sequential(\n",
    "            self.conv1,\n",
    "            nn.ReLU(),\n",
    "            self.pool,\n",
    "            self.conv2,\n",
    "            nn.ReLU(),\n",
    "            self.pool\n",
    "        )\n",
    "\n",
    "        self.model_classification = torch.nn.Sequential(\n",
    "            self.fc1,\n",
    "            nn.ReLU(),\n",
    "            self.fc2,\n",
    "            nn.ReLU(),\n",
    "            self.fc3\n",
    "        )\n",
    "\n",
    "    def forward(self, x):  # n: number samples in a batch.\n",
    "        # Start with n, 3, 32, 32\n",
    "        x = self.model_feature_learning(x)\n",
    "        x = torch.flatten(x, 1) # flatten all dimensions except batch\n",
    "        x = self.model_classification(x)\n",
    "        return x\n",
    "\n",
    "\n",
    "# Use local GPU for CNN models\n",
    "device = torch.device('cuda' if torch.cuda.is_available() else 'cpu')"
   ],
   "metadata": {
    "collapsed": false,
    "pycharm": {
     "name": "#%%\n"
    }
   }
  },
  {
   "cell_type": "code",
   "execution_count": 127,
   "outputs": [],
   "source": [
    "# Set ML configuration\n",
    "image_size = 400\n",
    "data_dir = rf'../Pneumonia_classification_data/reshape_{image_size}'\n",
    "num_epochs = 5\n",
    "batch_size = 4\n",
    "rate_learning = 0.001\n",
    "classes = ('Normal', 'Pneumonia')"
   ],
   "metadata": {
    "collapsed": false,
    "pycharm": {
     "name": "#%%\n"
    }
   }
  },
  {
   "cell_type": "code",
   "execution_count": 128,
   "outputs": [],
   "source": [
    "# Load and transform datasets\n",
    "# Images are processed from main.py to 300x300 greyscale jpeg format\n",
    "test_dir = os.path.join(data_dir, 'test')\n",
    "train_dir = os.path.join(data_dir, 'train')\n",
    "val_dir = os.path.join(data_dir, 'val')\n",
    "\n",
    "\n",
    "transform = transforms.Compose(\n",
    "    [transforms.Grayscale(num_output_channels=1),\n",
    "     transforms.ToTensor()])\n",
    "dataset_test = datasets.ImageFolder(test_dir, transform=transform)\n",
    "dataset_train = datasets.ImageFolder(train_dir, transform=transform)\n",
    "dataset_val = datasets.ImageFolder(val_dir, transform=transform)\n",
    "\n",
    "loader_test = DataLoader(dataset_test, batch_size=batch_size, shuffle=True)\n",
    "loader_train = DataLoader(dataset_train, batch_size=batch_size, shuffle=True)\n",
    "loader_val = DataLoader(dataset_val, batch_size=batch_size, shuffle=True)"
   ],
   "metadata": {
    "collapsed": false,
    "pycharm": {
     "name": "#%%\n"
    }
   }
  },
  {
   "cell_type": "code",
   "execution_count": 153,
   "outputs": [],
   "source": [
    "# Setup model, loss, optimizer and total training steps\n",
    "model = ConvolutionalNeuralNet().to(device)\n",
    "criterion = nn.CrossEntropyLoss()\n",
    "optimizer = torch.optim.SGD(model.parameters(), lr=rate_learning)\n",
    "n_total_steps = len(loader_train)"
   ],
   "metadata": {
    "collapsed": false,
    "pycharm": {
     "name": "#%%\n"
    }
   }
  },
  {
   "cell_type": "code",
   "execution_count": 155,
   "outputs": [
    {
     "name": "stdout",
     "output_type": "stream",
     "text": [
      "Epoch [1/5], Step [100/1277], Loss: 0.5527\n",
      "Epoch [1/5], Step [200/1277], Loss: 0.3094\n",
      "Epoch [1/5], Step [300/1277], Loss: 0.3218\n",
      "Epoch [1/5], Step [400/1277], Loss: 0.5589\n",
      "Epoch [1/5], Step [500/1277], Loss: 0.5720\n",
      "Epoch [1/5], Step [600/1277], Loss: 0.2847\n",
      "Epoch [1/5], Step [700/1277], Loss: 0.7660\n",
      "Epoch [1/5], Step [800/1277], Loss: 0.2731\n",
      "Epoch [1/5], Step [900/1277], Loss: 0.2760\n",
      "Epoch [1/5], Step [1000/1277], Loss: 0.7663\n",
      "Epoch [1/5], Step [1100/1277], Loss: 0.1945\n",
      "Epoch [1/5], Step [1200/1277], Loss: 0.7668\n",
      "Epoch [2/5], Step [100/1277], Loss: 0.1398\n",
      "Epoch [2/5], Step [200/1277], Loss: 0.2694\n",
      "Epoch [2/5], Step [300/1277], Loss: 0.3978\n",
      "Epoch [2/5], Step [400/1277], Loss: 0.7461\n",
      "Epoch [2/5], Step [500/1277], Loss: 0.3830\n",
      "Epoch [2/5], Step [600/1277], Loss: 0.1134\n",
      "Epoch [2/5], Step [700/1277], Loss: 0.0509\n",
      "Epoch [2/5], Step [800/1277], Loss: 1.0136\n",
      "Epoch [2/5], Step [900/1277], Loss: 0.3464\n",
      "Epoch [2/5], Step [1000/1277], Loss: 0.0629\n",
      "Epoch [2/5], Step [1100/1277], Loss: 0.3963\n",
      "Epoch [2/5], Step [1200/1277], Loss: 0.7909\n",
      "Epoch [3/5], Step [100/1277], Loss: 0.1054\n",
      "Epoch [3/5], Step [200/1277], Loss: 0.0514\n",
      "Epoch [3/5], Step [300/1277], Loss: 0.0216\n",
      "Epoch [3/5], Step [400/1277], Loss: 0.0071\n",
      "Epoch [3/5], Step [500/1277], Loss: 0.0115\n",
      "Epoch [3/5], Step [600/1277], Loss: 0.1908\n",
      "Epoch [3/5], Step [700/1277], Loss: 0.4183\n",
      "Epoch [3/5], Step [800/1277], Loss: 0.0477\n",
      "Epoch [3/5], Step [900/1277], Loss: 0.1021\n",
      "Epoch [3/5], Step [1000/1277], Loss: 0.1337\n",
      "Epoch [3/5], Step [1100/1277], Loss: 0.3304\n",
      "Epoch [3/5], Step [1200/1277], Loss: 0.0058\n",
      "Epoch [4/5], Step [100/1277], Loss: 0.0216\n",
      "Epoch [4/5], Step [200/1277], Loss: 0.3352\n",
      "Epoch [4/5], Step [300/1277], Loss: 0.2289\n",
      "Epoch [4/5], Step [400/1277], Loss: 0.1670\n",
      "Epoch [4/5], Step [500/1277], Loss: 0.0212\n",
      "Epoch [4/5], Step [600/1277], Loss: 0.0125\n",
      "Epoch [4/5], Step [700/1277], Loss: 0.0582\n",
      "Epoch [4/5], Step [800/1277], Loss: 0.8075\n",
      "Epoch [4/5], Step [900/1277], Loss: 0.0434\n",
      "Epoch [4/5], Step [1000/1277], Loss: 0.7975\n",
      "Epoch [4/5], Step [1100/1277], Loss: 0.0498\n",
      "Epoch [4/5], Step [1200/1277], Loss: 0.0330\n",
      "Epoch [5/5], Step [100/1277], Loss: 0.5156\n",
      "Epoch [5/5], Step [200/1277], Loss: 0.0745\n",
      "Epoch [5/5], Step [300/1277], Loss: 0.0227\n",
      "Epoch [5/5], Step [400/1277], Loss: 0.8436\n",
      "Epoch [5/5], Step [500/1277], Loss: 0.2922\n",
      "Epoch [5/5], Step [600/1277], Loss: 0.0379\n",
      "Epoch [5/5], Step [700/1277], Loss: 0.0054\n",
      "Epoch [5/5], Step [800/1277], Loss: 0.0194\n",
      "Epoch [5/5], Step [900/1277], Loss: 1.4320\n",
      "Epoch [5/5], Step [1000/1277], Loss: 0.0186\n",
      "Epoch [5/5], Step [1100/1277], Loss: 0.0038\n",
      "Epoch [5/5], Step [1200/1277], Loss: 0.0832\n",
      "Finished Training\n"
     ]
    }
   ],
   "source": [
    "# Start model training\n",
    "for epoch in range(num_epochs):\n",
    "    for i, (images, labels) in enumerate(loader_train):\n",
    "        images = images.to(device)\n",
    "        labels = labels.to(device)\n",
    "\n",
    "        outputs = model(images)\n",
    "        loss = criterion(outputs, labels)\n",
    "\n",
    "        optimizer.zero_grad()\n",
    "        loss.backward()\n",
    "        optimizer.step()\n",
    "\n",
    "        if (i + 1) % 100 == 0:\n",
    "            print (f'Epoch [{epoch+1}/{num_epochs}], Step [{i+1}/{n_total_steps}], Loss: {loss.item():.4f}')\n",
    "print('Finished Training')"
   ],
   "metadata": {
    "collapsed": false,
    "pycharm": {
     "name": "#%%\n"
    }
   }
  },
  {
   "cell_type": "code",
   "execution_count": null,
   "outputs": [],
   "source": [
    "with torch.no_grad():\n",
    "    n_correct = 0\n",
    "    n_samples = 0\n",
    "    n_class_correct = [0 for i in range(2)]\n",
    "    n_class_samples = [0 for i in range(2)]\n",
    "    for images, labels in loader_test:\n",
    "        images = images.to(device)\n",
    "        labels = labels.to(device)\n",
    "        outputs = model(images)\n",
    "        _, predictions = torch.max(outputs, 1)\n",
    "        n_samples += labels.size(0)\n",
    "        n_correct += (predictions == labels).sum().item()\n",
    "\n",
    "        for i in range(len(labels)):\n",
    "            label = labels[i]\n",
    "            pred = predictions[i]\n",
    "            if label == pred:\n",
    "                n_class_correct[label] += 1\n",
    "            n_class_samples[label] += 1\n",
    "\n",
    "    acc = 100.0 * n_correct / n_samples\n",
    "    print(f'Accuracy of the network: {acc} %')\n",
    "\n",
    "    for i in range(2):\n",
    "        acc = 100.0 * n_class_correct[i] / n_class_samples[i]\n",
    "        print(f'Accuracy of {classes[i]}: {acc:.2f} %')"
   ],
   "metadata": {
    "collapsed": false,
    "pycharm": {
     "name": "#%%\n"
    }
   }
  },
  {
   "cell_type": "code",
   "execution_count": null,
   "outputs": [],
   "source": [],
   "metadata": {
    "collapsed": false,
    "pycharm": {
     "name": "#%%\n"
    }
   }
  }
 ],
 "metadata": {
  "kernelspec": {
   "display_name": "Python 3",
   "language": "python",
   "name": "python3"
  },
  "language_info": {
   "codemirror_mode": {
    "name": "ipython",
    "version": 2
   },
   "file_extension": ".py",
   "mimetype": "text/x-python",
   "name": "python",
   "nbconvert_exporter": "python",
   "pygments_lexer": "ipython2",
   "version": "2.7.6"
  }
 },
 "nbformat": 4,
 "nbformat_minor": 0
}